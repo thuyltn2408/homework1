{
 "cells": [
  {
   "cell_type": "markdown",
   "metadata": {},
   "source": [
    "# Thực hành \n"
   ]
  },
  {
   "cell_type": "code",
   "execution_count": 46,
   "metadata": {},
   "outputs": [
    {
     "data": {
      "text/plain": [
       "<matplotlib.figure.Figure at 0xa6574e0>"
      ]
     },
     "metadata": {},
     "output_type": "display_data"
    }
   ],
   "source": [
    "from sklearn.cluster import KMeans\n",
    "from sklearn.datasets import make_blobs\n",
    "import matplotlib.pyplot as plt\n",
    "import sklearn.datasets as datasets\n",
    "import pandas as pd\n",
    "%matplotlib inline\n",
    "plt.gray()\n"
   ]
  },
  {
   "cell_type": "markdown",
   "metadata": {},
   "source": [
    "## Phát sinh dữ liệu\n",
    "\n",
    "## KMeans trên tập dữ liệu đã phát sinh"
   ]
  },
  {
   "cell_type": "code",
   "execution_count": 22,
   "metadata": {},
   "outputs": [],
   "source": [
    "X,Y = make_blobs(n_samples=150, n_features=2, centers=2, cluster_std=1.0, center_box=(-10.0, 10.0), shuffle=True, random_state=None)"
   ]
  },
  {
   "cell_type": "code",
   "execution_count": 19,
   "metadata": {},
   "outputs": [
    {
     "data": {
      "image/png": "[encoded data removed]",
      "text/plain": [
       "<matplotlib.figure.Figure at 0xaa9c048>"
      ]
     },
     "metadata": {},
     "output_type": "display_data"
    }
   ],
   "source": [
    "model = KMeans(n_clusters=2)\n",
    "labels = model.fit_predict(X)\n",
    "\n",
    "\n",
    "# Visualize \n",
    "xs = X[:,0]\n",
    "ys = X[:,1]\n",
    "\n",
    "plt.scatter(xs, ys, c=labels, alpha=0.5)\n",
    "\n",
    "centroids = model.cluster_centers_\n",
    "centroids_x = centroids[:,0]\n",
    "centroids_y = centroids[:,1]\n",
    "\n",
    "plt.scatter(centroids_x, centroids_y, marker='D', s=50)\n",
    "plt.show()"
   ]
  },
  {
   "cell_type": "markdown",
   "metadata": {},
   "source": [
    "# Thuc hanh bai tap 2"
   ]
  },
  {
   "cell_type": "code",
   "execution_count": 53,
   "metadata": {},
   "outputs": [
    {
     "name": "stdout",
     "output_type": "stream",
     "text": [
      "(1797, 64)\n"
     ]
    }
   ],
   "source": [
    "# Load dataset\n",
    "digits = datasets.load_digits()\n",
    "print(digits.data.shape)"
   ]
  },
  {
   "cell_type": "code",
   "execution_count": 54,
   "metadata": {},
   "outputs": [],
   "source": [
    "model2 = KMeans(n_clusters=10)\n",
    "labels = model2.fit_predict(digits.data)\n"
   ]
  },
  {
   "cell_type": "code",
   "execution_count": 55,
   "metadata": {},
   "outputs": [
    {
     "name": "stdout",
     "output_type": "stream",
     "text": [
      "Truth labels    0   1    2    3    4    5    6    7    8    9\n",
      "labels                                                       \n",
      "0               0   1   13  155    0    0    0    0    2    6\n",
      "1               0   0    2   13    0   43    0    0   52  139\n",
      "2               1   0    0    0  163    1    0    0    0    0\n",
      "3               0   1    0    2    0  137    0    5    6    7\n",
      "4               0  24  148    0    0    0    0    0    3    0\n",
      "5             177   0    1    0    0    0    1    0    0    0\n",
      "6               0  99    8    7    3    0    2    2  100    1\n",
      "7               0   2    0    0    0    1  177    0    2    0\n",
      "8               0   0    3    6    8    0    0  170    3    7\n",
      "9               0  55    2    0    7    0    1    2    6   20\n"
     ]
    }
   ],
   "source": [
    "df=pd.DataFrame({'labels':labels,'Truth labels':digits.target})\n",
    "ct = pd.crosstab(df['labels'],df['Truth labels'])\n",
    "print(ct)               "
   ]
  },
  {
   "cell_type": "code",
   "execution_count": 56,
   "metadata": {},
   "outputs": [
    {
     "name": "stdout",
     "output_type": "stream",
     "text": [
      "lables_predict: 3\n",
      " True:  5\n"
     ]
    },
    {
     "data": {
      "image/png": "[encoded data removed]",
      "text/plain": [
       "<matplotlib.figure.Figure at 0xac0f7b8>"
      ]
     },
     "metadata": {},
     "output_type": "display_data"
    }
   ],
   "source": [
    "n=15\n",
    "plt.matshow(digits.images[n])\n",
    "print('lables_predict:',labels[n])\n",
    "print(' True: ', digits.target[n])"
   ]
  },
  {
   "cell_type": "code",
   "execution_count": 65,
   "metadata": {},
   "outputs": [],
   "source": [
    "# Spectral_clustering\n",
    "\n",
    "from sklearn.cluster import spectral_clustering\n",
    "from sklearn.feature_extraction import image\n",
    "import numpy as np\n",
    "from sklearn.neighbors import DistanceMetric\n",
    "\n",
    "dist = DistanceMetric.get_metric('euclidean')\n",
    "graph=dist.pairwise(digits.data) \n",
    "\n",
    "labels3 = spectral_clustering(graph, n_clusters=10, eigen_solver='arpack')\n"
   ]
  },
  {
   "cell_type": "code",
   "execution_count": 70,
   "metadata": {},
   "outputs": [
    {
     "name": "stdout",
     "output_type": "stream",
     "text": [
      "Truth labels    0    1    2    3    4    5    6    7    8    9\n",
      "labels                                                        \n",
      "0             178  168  177  183  180  182  181  179  174  180\n",
      "1               0    1    0    0    0    0    0    0    0    0\n",
      "2               0    1    0    0    0    0    0    0    0    0\n",
      "3               0    5    0    0    0    0    0    0    0    0\n",
      "4               0    1    0    0    0    0    0    0    0    0\n",
      "5               0    1    0    0    0    0    0    0    0    0\n",
      "6               0    1    0    0    0    0    0    0    0    0\n",
      "7               0    0    0    0    1    0    0    0    0    0\n",
      "8               0    1    0    0    0    0    0    0    0    0\n",
      "9               0    3    0    0    0    0    0    0    0    0\n"
     ]
    }
   ],
   "source": [
    "df1=pd.DataFrame({'labels':labels3,'Truth labels':digits.target})\n",
    "ct2=pd.crosstab(df1['labels'],df1['Truth labels'])\n",
    "print(ct2)"
   ]
  },
  {
   "cell_type": "code",
   "execution_count": 69,
   "metadata": {},
   "outputs": [
    {
     "data": {
      "text/plain": [
       "array([0, 0, 0, ..., 0, 0, 0])"
      ]
     },
     "execution_count": 69,
     "metadata": {},
     "output_type": "execute_result"
    }
   ],
   "source": [
    "\n"
   ]
  },
  {
   "cell_type": "code",
   "execution_count": null,
   "metadata": {},
   "outputs": [],
   "source": []
  }
 ],
 "metadata": {
  "kernelspec": {
   "display_name": "Python 3",
   "language": "python",
   "name": "python3"
  },
  "language_info": {
   "codemirror_mode": {
    "name": "ipython",
    "version": 3
   },
   "file_extension": ".py",
   "mimetype": "text/x-python",
   "name": "python",
   "nbconvert_exporter": "python",
   "pygments_lexer": "ipython3",
   "version": "3.4.4"
  }
 },
 "nbformat": 4,
 "nbformat_minor": 2
}
